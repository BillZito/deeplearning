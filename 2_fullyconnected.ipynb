{
 "cells": [
  {
   "cell_type": "markdown",
   "metadata": {
    "colab_type": "text",
    "id": "kR-4eNdK6lYS"
   },
   "source": [
    "Deep Learning\n",
    "=============\n",
    "\n",
    "Assignment 2\n",
    "------------\n",
    "\n",
    "Previously in `1_notmnist.ipynb`, we created a pickle with formatted datasets for training, development and testing on the [notMNIST dataset](http://yaroslavvb.blogspot.com/2011/09/notmnist-dataset.html).\n",
    "\n",
    "The goal of this assignment is to progressively train deeper and more accurate models using TensorFlow."
   ]
  },
  {
   "cell_type": "code",
   "execution_count": 1,
   "metadata": {
    "cellView": "both",
    "colab": {
     "autoexec": {
      "startup": false,
      "wait_interval": 0
     }
    },
    "colab_type": "code",
    "collapsed": false,
    "id": "JLpLa8Jt7Vu4"
   },
   "outputs": [],
   "source": [
    "# These are all the modules we'll be using later. Make sure you can import them\n",
    "# before proceeding further.\n",
    "from __future__ import print_function\n",
    "import numpy as np\n",
    "import tensorflow as tf\n",
    "from six.moves import cPickle as pickle\n",
    "from six.moves import range\n"
   ]
  },
  {
   "cell_type": "markdown",
   "metadata": {
    "colab_type": "text",
    "id": "1HrCK6e17WzV"
   },
   "source": [
    "First reload the data we generated in `1_notmnist.ipynb`."
   ]
  },
  {
   "cell_type": "code",
   "execution_count": 2,
   "metadata": {
    "cellView": "both",
    "colab": {
     "autoexec": {
      "startup": false,
      "wait_interval": 0
     },
     "output_extras": [
      {
       "item_id": 1
      }
     ]
    },
    "colab_type": "code",
    "collapsed": false,
    "executionInfo": {
     "elapsed": 19456,
     "status": "ok",
     "timestamp": 1449847956073,
     "user": {
      "color": "",
      "displayName": "",
      "isAnonymous": false,
      "isMe": true,
      "permissionId": "",
      "photoUrl": "",
      "sessionId": "0",
      "userId": ""
     },
     "user_tz": 480
    },
    "id": "y3-cj1bpmuxc",
    "outputId": "0ddb1607-1fc4-4ddb-de28-6c7ab7fb0c33"
   },
   "outputs": [
    {
     "name": "stdout",
     "output_type": "stream",
     "text": [
      "Training set (200000, 28, 28) (200000,)\n",
      "Validation set (10000, 28, 28) (10000,)\n",
      "Test set (10000, 28, 28) (10000,)\n"
     ]
    }
   ],
   "source": [
    "pickle_file = 'notMNIST.pickle'\n",
    "\n",
    "#open picklefile and save\n",
    "with open(pickle_file, 'rb') as f:\n",
    "  save = pickle.load(f)\n",
    "  train_dataset = save['train_dataset']\n",
    "  train_labels = save['train_labels']\n",
    "  valid_dataset = save['valid_dataset']\n",
    "  valid_labels = save['valid_labels']\n",
    "  test_dataset = save['test_dataset']\n",
    "  test_labels = save['test_labels']\n",
    "  del save  # hint to help gc free up memory\n",
    "    #print to show that all of 28x28 pixels\n",
    "  print('Training set', train_dataset.shape, train_labels.shape)\n",
    "  print('Validation set', valid_dataset.shape, valid_labels.shape)\n",
    "  print('Test set', test_dataset.shape, test_labels.shape)"
   ]
  },
  {
   "cell_type": "markdown",
   "metadata": {
    "colab_type": "text",
    "id": "L7aHrm6nGDMB"
   },
   "source": [
    "Reformat into a shape that's more adapted to the models we're going to train:\n",
    "- data as a flat matrix,\n",
    "- labels as float 1-hot encodings."
   ]
  },
  {
   "cell_type": "code",
   "execution_count": 3,
   "metadata": {
    "cellView": "both",
    "colab": {
     "autoexec": {
      "startup": false,
      "wait_interval": 0
     },
     "output_extras": [
      {
       "item_id": 1
      }
     ]
    },
    "colab_type": "code",
    "collapsed": false,
    "executionInfo": {
     "elapsed": 19723,
     "status": "ok",
     "timestamp": 1449847956364,
     "user": {
      "color": "",
      "displayName": "",
      "isAnonymous": false,
      "isMe": true,
      "permissionId": "",
      "photoUrl": "",
      "sessionId": "0",
      "userId": ""
     },
     "user_tz": 480
    },
    "id": "IRSyYiIIGIzS",
    "outputId": "2ba0fc75-1487-4ace-a562-cf81cae82793",
    "scrolled": true
   },
   "outputs": [
    {
     "name": "stdout",
     "output_type": "stream",
     "text": [
      "Training set (200000, 784) (200000, 10)\n",
      "Validation set (10000, 784) (10000, 10)\n",
      "Test set (10000, 784) (10000, 10)\n"
     ]
    }
   ],
   "source": [
    "image_size = 28\n",
    "num_labels = 10\n",
    "\n",
    "#reformat data to be 783 0's and 1's where the pixels are\n",
    "def reformat(dataset, labels):\n",
    "  dataset = dataset.reshape((-1, image_size * image_size)).astype(np.float32)\n",
    "  # Map 0 to [1.0, 0.0, 0.0 ...], 1 to [0.0, 1.0, 0.0 ...]\n",
    "  labels = (np.arange(num_labels) == labels[:,None]).astype(np.float32)\n",
    "  return dataset, labels\n",
    "#set train datset/labels to this version, as well as validation dataset and labels as well as test\n",
    "#***do this because simple logistic regression needs it?\n",
    "train_dataset, train_labels = reformat(train_dataset, train_labels)\n",
    "valid_dataset, valid_labels = reformat(valid_dataset, valid_labels)\n",
    "test_dataset, test_labels = reformat(test_dataset, test_labels)\n",
    "#print out to confirm they are all of new shape\n",
    "print('Training set', train_dataset.shape, train_labels.shape)\n",
    "print('Validation set', valid_dataset.shape, valid_labels.shape)\n",
    "print('Test set', test_dataset.shape, test_labels.shape)"
   ]
  },
  {
   "cell_type": "markdown",
   "metadata": {
    "colab_type": "text",
    "id": "nCLVqyQ5vPPH"
   },
   "source": [
    "We're first going to train a multinomial logistic regression using simple gradient descent.\n",
    "\n",
    "TensorFlow works like this:\n",
    "* First you describe the computation that you want to see performed: what the inputs, the variables, and the operations look like. These get created as nodes over a computation graph. This description is all contained within the block below:\n",
    "\n",
    "      with graph.as_default():\n",
    "          ...\n",
    "\n",
    "* Then you can run the operations on this graph as many times as you want by calling `session.run()`, providing it outputs to fetch from the graph that get returned. This runtime operation is all contained in the block below:\n",
    "\n",
    "      with tf.Session(graph=graph) as session:\n",
    "          ...\n",
    "\n",
    "Let's load all the data into TensorFlow and build the computation graph corresponding to our training:"
   ]
  },
  {
   "cell_type": "code",
   "execution_count": 4,
   "metadata": {
    "cellView": "both",
    "colab": {
     "autoexec": {
      "startup": false,
      "wait_interval": 0
     }
    },
    "colab_type": "code",
    "collapsed": false,
    "id": "Nfv39qvtvOl_"
   },
   "outputs": [],
   "source": [
    "# With gradient descent training, even this much data is prohibitive.\n",
    "# Subset the training data for faster turnaround.\n",
    "train_subset = 10000\n",
    "\n",
    "#initalize tensfor flow graph\n",
    "graph = tf.Graph()\n",
    "#make default graph and establish operations\n",
    "with graph.as_default():\n",
    "\n",
    "  # Input data.\n",
    "  # Load the training, validation and test data into constants that are\n",
    "  # attached to the graph.\n",
    "  tf_train_dataset = tf.constant(train_dataset[:train_subset, :])\n",
    "  tf_train_labels = tf.constant(train_labels[:train_subset])\n",
    "  tf_valid_dataset = tf.constant(valid_dataset)\n",
    "  tf_test_dataset = tf.constant(test_dataset)\n",
    "  \n",
    "  # Variables.\n",
    "  # These are the parameters that we are going to be training. The weight\n",
    "  # matrix will be initialized using random values following a (truncated)\n",
    "  # normal distribution. The biases get initialized to zero.\n",
    "  # create normal distribution for weights to start since that is efficient\n",
    "  weights = tf.Variable(\n",
    "    tf.truncated_normal([image_size * image_size, num_labels]))\n",
    "  biases = tf.Variable(tf.zeros([num_labels]))\n",
    "  \n",
    "  # Training computation.\n",
    "  # We multiply the inputs with the weight matrix, and add biases. We compute\n",
    "  # the softmax and cross-entropy (it's one operation in TensorFlow, because\n",
    "  # it's very common, and it can be optimized). We take the average of this\n",
    "  # cross-entropy across all training examples: that's our loss.\n",
    "  # logists are the inputs multiplied by the weights with the biases added\n",
    "  # loss function is the softmax cross entroy --distnace between scores and 1-hot answers\n",
    "  logits = tf.matmul(tf_train_dataset, weights) + biases\n",
    "  loss = tf.reduce_mean(\n",
    "    tf.nn.softmax_cross_entropy_with_logits(logits, tf_train_labels))\n",
    "  \n",
    "  # Optimizer.\n",
    "  # We are going to find the minimum of this loss using gradient descent.\n",
    "  # gradient descent of .5 step? to minimize the loss function\n",
    "  optimizer = tf.train.GradientDescentOptimizer(0.5).minimize(loss)\n",
    "  \n",
    "  # Predictions for the training, validation, and test data.\n",
    "  # These are not part of training, but merely here so that we can report\n",
    "  # accuracy figures as we train.\n",
    "  # calculate prediictions at each step of the process\n",
    "  train_prediction = tf.nn.softmax(logits)\n",
    "  valid_prediction = tf.nn.softmax(\n",
    "    tf.matmul(tf_valid_dataset, weights) + biases)\n",
    "  test_prediction = tf.nn.softmax(tf.matmul(tf_test_dataset, weights) + biases)"
   ]
  },
  {
   "cell_type": "markdown",
   "metadata": {
    "colab_type": "text",
    "id": "KQcL4uqISHjP"
   },
   "source": [
    "Let's run this computation and iterate:"
   ]
  },
  {
   "cell_type": "code",
   "execution_count": 5,
   "metadata": {
    "cellView": "both",
    "colab": {
     "autoexec": {
      "startup": false,
      "wait_interval": 0
     },
     "output_extras": [
      {
       "item_id": 9
      }
     ]
    },
    "colab_type": "code",
    "collapsed": false,
    "executionInfo": {
     "elapsed": 57454,
     "status": "ok",
     "timestamp": 1449847994134,
     "user": {
      "color": "",
      "displayName": "",
      "isAnonymous": false,
      "isMe": true,
      "permissionId": "",
      "photoUrl": "",
      "sessionId": "0",
      "userId": ""
     },
     "user_tz": 480
    },
    "id": "z2cjdenH869W",
    "outputId": "4c037ba1-b526-4d8e-e632-91e2a0333267"
   },
   "outputs": [],
   "source": [
    "#do this for 801 steps\n",
    "num_steps = 801\n",
    "\n",
    "#calculate accuracy as # predictions out of # possible\n",
    "def accuracy(predictions, labels):\n",
    "  return (100.0 * np.sum(np.argmax(predictions, 1) == np.argmax(labels, 1))\n",
    "          / predictions.shape[0])\n",
    "\n",
    "# uncomment this code to run the logistic regression with gradient descent and no hidden layer\n",
    "# with tf.Session(graph=graph) as session:\n",
    "#     tf.global_variables_initializer().run()\n",
    "#     for step in range(num_steps):\n",
    "#         _, l, predictions = session.run([optimizer, loss, train_prediction])\n",
    "#         if (step % 100 == 0):\n",
    "#             # for every 100th step\n",
    "#             print('Loss at step %d: %f' %(step, 1))\n",
    "#             print('Training accuracry: %.lf%%' % accuracy(\n",
    "#                 predictions, train_labels[:train_subset, :]))\n",
    "#             print('Validation accuracy: %.lf%%' % accuracy(\n",
    "#                 valid_prediction.eval(), valid_labels))\n",
    "#     print('Test accuracy: %.lf%%' % accuracy(test_prediction.eval(), test_labels))\n",
    "            \n",
    "\n",
    "#run the tf session\n",
    "# with tf.Session(graph=graph) as session:\n",
    "#   # This is a one-time operation which ensures the parameters get initialized as\n",
    "#   # we described in the graph: random weights for the matrix, zeros for the\n",
    "#   # biases. \n",
    "#   # runs the initalizer we defined above? \n",
    "#   tf.global_variables_initializer().run()\n",
    "#   print('Initialized')\n",
    "#   for step in range(num_steps):\n",
    "#     # Run the computations. We tell .run() that we want to run the optimizer,\n",
    "#     # and get the loss value and the training predictions returned as numpy\n",
    "#     # arrays.\n",
    "#     # run session to optimize loss\n",
    "#     _, l, predictions = session.run([optimizer, loss, train_prediction])\n",
    "#     if (step % 100 == 0):\n",
    "#       # print out the loss and training accuracy as we do it\n",
    "#       print('Loss at step %d: %f' % (step, l))\n",
    "#       print('Training accuracy: %.1f%%' % accuracy(\n",
    "#         predictions, train_labels[:train_subset, :]))\n",
    "#       # Calling .eval() on valid_prediction is basically like calling run(), but\n",
    "#       # just to get that one numpy array. Note that it recomputes all its graph\n",
    "#       # dependencies.\n",
    "#       print('Validation accuracy: %.1f%%' % accuracy(\n",
    "#         valid_prediction.eval(), valid_labels))\n",
    "#   print('Test accuracy: %.1f%%' % accuracy(test_prediction.eval(), test_labels))"
   ]
  },
  {
   "cell_type": "markdown",
   "metadata": {
    "colab_type": "text",
    "id": "x68f-hxRGm3H"
   },
   "source": [
    "Let's now switch to stochastic gradient descent training instead, which is much faster.\n",
    "\n",
    "The graph will be similar, except that instead of holding all the training data into a constant node, we create a `Placeholder` node which will be fed actual data at every call of `session.run()`."
   ]
  },
  {
   "cell_type": "code",
   "execution_count": 11,
   "metadata": {
    "cellView": "both",
    "colab": {
     "autoexec": {
      "startup": false,
      "wait_interval": 0
     }
    },
    "colab_type": "code",
    "collapsed": false,
    "id": "qhPMzWYRGrzM"
   },
   "outputs": [],
   "source": [
    "#batch size is # of data points! We're choosing random data which is making\n",
    "#this more efficient.\n",
    "batch_size = 128\n",
    "num_relu = 1024\n",
    "hidden_2_size = 300\n",
    "\n",
    "# def weight_variable(shape):\n",
    "#     initial = tf.truncated_normal(shape, stddev=0.1)\n",
    "#     return tf.Variable(initial)\n",
    "\n",
    "# def bias_variable(shape):\n",
    "#     initial = tf.constant(0.1, shape=shape)\n",
    "#     return tf.Variable(initial)\n",
    "\n",
    "# n_hidden_1_features = 256\n",
    "n_input_features = 784\n",
    "n_classes = 10\n",
    "beta = 0.001\n",
    "beta2 = 0.0001\n",
    "\n",
    "# initalize graph\n",
    "graph = tf.Graph()\n",
    "with graph.as_default():\n",
    "\n",
    "  # Input data. For the training data, we use a placeholder that will be fed\n",
    "  # at run time with a training minibatch.\n",
    "  # create train validation and test data/labels of correct size\n",
    "  tf_train_dataset = tf.placeholder(tf.float32,\n",
    "                                    shape=(batch_size, image_size * image_size))\n",
    "  tf_train_labels = tf.placeholder(tf.float32, shape=(batch_size, num_labels))\n",
    "  tf_valid_dataset = tf.constant(valid_dataset)\n",
    "  tf_test_dataset = tf.constant(test_dataset)\n",
    "  \n",
    "  xavier_initializer = tf.contrib.layers.xavier_initializer()\n",
    "\n",
    "  # Variables.\n",
    "  # weights are the truncated normal, biases set to 0\n",
    "# xavier_initializer([n_input_features, num_relu])\n",
    "  weights = {\n",
    "    'h1': tf.Variable(tf.truncated_normal([n_input_features, num_relu])),\n",
    "    'h2': tf.Variable(tf.truncated_normal([num_relu, hidden_2_size])),\n",
    "    'out': tf.Variable(tf.truncated_normal([hidden_2_size, n_classes]))\n",
    "  }\n",
    "\n",
    "  biases = {\n",
    "    'h1': tf.Variable(tf.random_normal([num_relu])),\n",
    "    'h2': tf.Variable(tf.random_normal([hidden_2_size])),\n",
    "    'out': tf.Variable(tf.random_normal([n_classes]))\n",
    "  }\n",
    "\n",
    "#   print('initalizer', xavier_initializer)\n",
    "#   print('xav weights', xav_weights)\n",
    "#multilayer perceptron takes in a dataset, weights, and biases\n",
    "#it runs a normal matmul on it (layer_1)\n",
    "#then it runs a neural relu layer\n",
    "#then it runs an out layer to conver to w2\n",
    "#continuing in stocahstic gradient descent, it uses 128 random vals\n",
    "\n",
    "  def multilayer_perceptron(x, weights, biases):\n",
    "        layer_1 = tf.matmul(x, weights['h1']) + biases['h1']\n",
    "        hidden_layer = tf.nn.tanh(layer_1)\n",
    "#         hidden_layer = tf.nn.dropout(hidden_layer, .5)\n",
    "        layer_2 = tf.matmul(hidden_layer, weights['h2']) + biases['h2']\n",
    "        hidden_2 = tf.nn.tanh(layer_2)\n",
    "#         hidden_2 = tf.nn.dropout(hidden_2, .5)\n",
    "#         print('hidden_2', hidden_2)\n",
    "        out_layer = tf.matmul(hidden_2, weights['out']) + biases['out']\n",
    "        return out_layer     \n",
    "\n",
    "#   def multilayer_perceptron_with_dropout(x, weights, biases):\n",
    "#         layer_1 = tf.matmul(x, weights['h1']) + biases['h1']\n",
    "#         hidden_layer = tf.nn.relu(layer_1)\n",
    "#         layer_2 = tf.matmul(hidden_layer, weights['h2']) + biases['h2']\n",
    "#         hidden_2 = tf.nn.relu(layer_2)\n",
    "#         out_layer = tf.matmul(hidden_2, weights['out']) + biases['out']\n",
    "#         return out_layer    \n",
    "        \n",
    "\n",
    "\n",
    "#above-- set the training data as placeholder with (batch_size, image_size * image_size) since it is 128 random samples\n",
    "# of 1-hot encoded info\n",
    "#set the weights as h1: from input_num (image_size * image_size) to num_relu\n",
    "#and out: from num_relu to num_classes\n",
    "        \n",
    "\n",
    "\n",
    "#   def multilayer_perceptron(x, weights, biases):\n",
    "#       layer_1 = tf.matmul(x, weights['h1']) + biases['h1']\n",
    "#       print('layer shape is', layer_1)\n",
    "#       hidden_layer_1 = tf.nn.relu(layer_1)\n",
    "#       out_layer = tf.matmul(hidden_layer_1, weights['out']) + biases['out']\n",
    "#       print('x is', x)\n",
    "#       print('hidden layer 1 shape', hidden_layer_1)\n",
    "#       return out_layer\n",
    "\n",
    "\n",
    "#set logit to multilyaer_perceptron(train, weights, biases)\n",
    "#set loss to tf.reduce mean of softmax cross entropy of logit and labels \n",
    "#initialize optimizer for gradient descent\n",
    "#run on each datapoint\n",
    "#what i should do on thursday after getting all this to run is try to rewrite everything \n",
    "#without looking back\n",
    "\n",
    "  # calculate loss\n",
    "  # Training computation.\n",
    "  #add in layer_1 instead of train dataset...?\n",
    "    #old: tf train dataset\n",
    "  logits = multilayer_perceptron(tf_train_dataset, weights, biases)\n",
    "  loss = tf.reduce_mean(\n",
    "    tf.nn.softmax_cross_entropy_with_logits(logits, tf_train_labels) + beta*(tf.nn.l2_loss(weights['h1']) + tf.nn.l2_loss(weights['h2'])) + beta2*(tf.nn.l2_loss(weights['out']))) \n",
    "  \n",
    "  # Optimizer.\n",
    "  # set gradient descent-- where is stochastic? \n",
    "  optimizer = tf.train.GradientDescentOptimizer(0.5).minimize(loss)\n",
    "  \n",
    "  # Predictions for the training, validation, and test data.\n",
    "  train_prediction = tf.nn.softmax(logits)\n",
    "  valid_prediction = tf.nn.softmax(multilayer_perceptron(tf_valid_dataset, weights, biases))\n",
    "  test_prediction = tf.nn.softmax(multilayer_perceptron(tf_test_dataset, weights, biases))"
   ]
  },
  {
   "cell_type": "markdown",
   "metadata": {
    "colab_type": "text",
    "id": "XmVZESmtG4JH"
   },
   "source": [
    "Let's run it:"
   ]
  },
  {
   "cell_type": "code",
   "execution_count": 12,
   "metadata": {
    "cellView": "both",
    "colab": {
     "autoexec": {
      "startup": false,
      "wait_interval": 0
     },
     "output_extras": [
      {
       "item_id": 6
      }
     ]
    },
    "colab_type": "code",
    "collapsed": false,
    "executionInfo": {
     "elapsed": 66292,
     "status": "ok",
     "timestamp": 1449848003013,
     "user": {
      "color": "",
      "displayName": "",
      "isAnonymous": false,
      "isMe": true,
      "permissionId": "",
      "photoUrl": "",
      "sessionId": "0",
      "userId": ""
     },
     "user_tz": 480
    },
    "id": "FoF91pknG_YW",
    "outputId": "d255c80e-954d-4183-ca1c-c7333ce91d0a"
   },
   "outputs": [
    {
     "name": "stdout",
     "output_type": "stream",
     "text": [
      "Initialized\n",
      "Minibatch loss at step 0: 454.887787\n",
      "Minibatch accuracy: 10.9%\n",
      "Validation accuracy: 11.1%\n",
      "Minibatch loss at step 500: 264.250977\n",
      "Minibatch accuracy: 78.9%\n",
      "Validation accuracy: 72.9%\n",
      "Minibatch loss at step 1000: 161.692184\n",
      "Minibatch accuracy: 71.9%\n",
      "Validation accuracy: 75.1%\n",
      "Minibatch loss at step 1500: 97.622452\n",
      "Minibatch accuracy: 85.2%\n",
      "Validation accuracy: 78.8%\n",
      "Minibatch loss at step 2000: 59.422127\n",
      "Minibatch accuracy: 86.7%\n",
      "Validation accuracy: 80.9%\n",
      "Minibatch loss at step 2500: 36.401653\n",
      "Minibatch accuracy: 82.8%\n",
      "Validation accuracy: 82.6%\n",
      "Minibatch loss at step 3000: 22.448366\n",
      "Minibatch accuracy: 81.2%\n",
      "Validation accuracy: 81.9%\n",
      "Minibatch loss at step 3500: 13.945829\n",
      "Minibatch accuracy: 79.7%\n",
      "Validation accuracy: 83.5%\n",
      "Minibatch loss at step 4000: 8.493986\n",
      "Minibatch accuracy: 88.3%\n",
      "Validation accuracy: 85.2%\n",
      "Minibatch loss at step 4500: 5.423935\n",
      "Minibatch accuracy: 86.7%\n",
      "Validation accuracy: 85.1%\n",
      "Minibatch loss at step 5000: 3.659275\n",
      "Minibatch accuracy: 87.5%\n",
      "Validation accuracy: 85.9%\n",
      "Minibatch loss at step 5500: 2.603391\n",
      "Minibatch accuracy: 78.1%\n",
      "Validation accuracy: 82.0%\n",
      "Minibatch loss at step 6000: 1.768258\n",
      "Minibatch accuracy: 84.4%\n",
      "Validation accuracy: 80.0%\n",
      "Minibatch loss at step 6500: 1.182752\n",
      "Minibatch accuracy: 88.3%\n",
      "Validation accuracy: 86.3%\n",
      "Minibatch loss at step 7000: 1.039356\n",
      "Minibatch accuracy: 85.9%\n",
      "Validation accuracy: 86.2%\n",
      "Minibatch loss at step 7500: 0.999348\n",
      "Minibatch accuracy: 82.8%\n",
      "Validation accuracy: 86.0%\n",
      "Minibatch loss at step 8000: 1.051541\n",
      "Minibatch accuracy: 77.3%\n",
      "Validation accuracy: 85.0%\n",
      "Minibatch loss at step 8500: 0.688201\n",
      "Minibatch accuracy: 88.3%\n",
      "Validation accuracy: 85.5%\n",
      "Minibatch loss at step 9000: 0.911222\n",
      "Minibatch accuracy: 81.2%\n",
      "Validation accuracy: 82.4%\n",
      "Minibatch loss at step 9500: 0.601178\n",
      "Minibatch accuracy: 87.5%\n",
      "Validation accuracy: 86.2%\n",
      "Minibatch loss at step 10000: 0.671191\n",
      "Minibatch accuracy: 82.0%\n",
      "Validation accuracy: 86.0%\n",
      "Minibatch loss at step 10500: 0.530775\n",
      "Minibatch accuracy: 89.8%\n",
      "Validation accuracy: 86.7%\n",
      "Minibatch loss at step 11000: 0.522032\n",
      "Minibatch accuracy: 90.6%\n",
      "Validation accuracy: 86.1%\n",
      "Minibatch loss at step 11500: 0.628314\n",
      "Minibatch accuracy: 85.9%\n",
      "Validation accuracy: 82.3%\n",
      "Minibatch loss at step 12000: 0.670577\n",
      "Minibatch accuracy: 82.8%\n",
      "Validation accuracy: 86.4%\n",
      "Minibatch loss at step 12500: 0.530707\n",
      "Minibatch accuracy: 86.7%\n",
      "Validation accuracy: 85.8%\n",
      "Minibatch loss at step 13000: 0.655050\n",
      "Minibatch accuracy: 83.6%\n",
      "Validation accuracy: 85.8%\n",
      "Minibatch loss at step 13500: 0.559859\n",
      "Minibatch accuracy: 85.9%\n",
      "Validation accuracy: 85.6%\n",
      "Minibatch loss at step 14000: 0.617305\n",
      "Minibatch accuracy: 86.7%\n",
      "Validation accuracy: 87.0%\n",
      "Minibatch loss at step 14500: 0.589602\n",
      "Minibatch accuracy: 86.7%\n",
      "Validation accuracy: 87.0%\n",
      "Minibatch loss at step 15000: 0.633205\n",
      "Minibatch accuracy: 87.5%\n",
      "Validation accuracy: 86.8%\n",
      "Minibatch loss at step 15500: 0.649761\n",
      "Minibatch accuracy: 83.6%\n",
      "Validation accuracy: 86.5%\n",
      "Minibatch loss at step 16000: 0.517319\n",
      "Minibatch accuracy: 89.8%\n",
      "Validation accuracy: 86.9%\n",
      "Minibatch loss at step 16500: 0.479069\n",
      "Minibatch accuracy: 89.8%\n",
      "Validation accuracy: 87.4%\n",
      "Minibatch loss at step 17000: 0.422247\n",
      "Minibatch accuracy: 91.4%\n",
      "Validation accuracy: 86.5%\n",
      "Minibatch loss at step 17500: 0.362900\n",
      "Minibatch accuracy: 93.8%\n",
      "Validation accuracy: 87.2%\n",
      "Minibatch loss at step 18000: 0.414594\n",
      "Minibatch accuracy: 91.4%\n",
      "Validation accuracy: 86.8%\n",
      "Minibatch loss at step 18500: 0.579239\n",
      "Minibatch accuracy: 85.2%\n",
      "Validation accuracy: 86.7%\n",
      "Minibatch loss at step 19000: 0.374372\n",
      "Minibatch accuracy: 92.2%\n",
      "Validation accuracy: 87.4%\n",
      "Minibatch loss at step 19500: 0.460547\n",
      "Minibatch accuracy: 90.6%\n",
      "Validation accuracy: 87.4%\n",
      "Minibatch loss at step 20000: 0.683853\n",
      "Minibatch accuracy: 80.5%\n",
      "Validation accuracy: 86.4%\n",
      "Minibatch loss at step 20500: 0.533122\n",
      "Minibatch accuracy: 90.6%\n",
      "Validation accuracy: 88.0%\n",
      "Minibatch loss at step 21000: 0.465444\n",
      "Minibatch accuracy: 88.3%\n",
      "Validation accuracy: 87.3%\n",
      "Minibatch loss at step 21500: 0.414975\n",
      "Minibatch accuracy: 89.1%\n",
      "Validation accuracy: 87.0%\n",
      "Minibatch loss at step 22000: 0.366943\n",
      "Minibatch accuracy: 93.0%\n",
      "Validation accuracy: 87.5%\n",
      "Minibatch loss at step 22500: 0.527245\n",
      "Minibatch accuracy: 85.9%\n",
      "Validation accuracy: 86.2%\n",
      "Minibatch loss at step 23000: 0.511532\n",
      "Minibatch accuracy: 89.1%\n",
      "Validation accuracy: 86.9%\n",
      "Minibatch loss at step 23500: 0.376196\n",
      "Minibatch accuracy: 92.2%\n",
      "Validation accuracy: 87.1%\n",
      "Minibatch loss at step 24000: 0.448913\n",
      "Minibatch accuracy: 89.1%\n",
      "Validation accuracy: 87.0%\n",
      "Minibatch loss at step 24500: 0.544797\n",
      "Minibatch accuracy: 85.2%\n",
      "Validation accuracy: 87.0%\n",
      "Minibatch loss at step 25000: 0.481333\n",
      "Minibatch accuracy: 89.8%\n",
      "Validation accuracy: 87.8%\n",
      "Minibatch loss at step 25500: 0.458164\n",
      "Minibatch accuracy: 89.8%\n",
      "Validation accuracy: 86.2%\n",
      "Minibatch loss at step 26000: 0.407141\n",
      "Minibatch accuracy: 91.4%\n",
      "Validation accuracy: 87.4%\n",
      "Minibatch loss at step 26500: 0.482302\n",
      "Minibatch accuracy: 89.1%\n",
      "Validation accuracy: 87.3%\n",
      "Minibatch loss at step 27000: 0.579821\n",
      "Minibatch accuracy: 89.8%\n",
      "Validation accuracy: 87.5%\n",
      "Minibatch loss at step 27500: 0.580928\n",
      "Minibatch accuracy: 85.2%\n",
      "Validation accuracy: 86.7%\n",
      "Minibatch loss at step 28000: 0.458653\n",
      "Minibatch accuracy: 89.1%\n",
      "Validation accuracy: 86.5%\n",
      "Minibatch loss at step 28500: 0.389295\n",
      "Minibatch accuracy: 91.4%\n",
      "Validation accuracy: 87.5%\n",
      "Minibatch loss at step 29000: 0.502302\n",
      "Minibatch accuracy: 88.3%\n",
      "Validation accuracy: 87.0%\n",
      "Minibatch loss at step 29500: 0.525064\n",
      "Minibatch accuracy: 89.1%\n",
      "Validation accuracy: 87.2%\n",
      "Minibatch loss at step 30000: 0.428210\n",
      "Minibatch accuracy: 90.6%\n",
      "Validation accuracy: 87.7%\n",
      "Test accuracy: 93.8%\n"
     ]
    }
   ],
   "source": [
    "# do it for 3001 operations \n",
    "num_steps = 30001\n",
    "\n",
    "# run tensfor flow session\n",
    "with tf.Session(graph=graph) as session:\n",
    "  tf.global_variables_initializer().run()\n",
    "  print(\"Initialized\")\n",
    "  for step in range(num_steps):\n",
    "    # Pick an offset within the training data, which has been randomized.\n",
    "    # Note: we could use better randomization across epochs.\n",
    "    #make the batch either the first batch, second, or third\n",
    "#     if step % 3 == 0: \n",
    "#         offset = 0\n",
    "#     elif step % 3 == 1: \n",
    "#         offset = 256\n",
    "#     else: \n",
    "#         offset = 1000\n",
    "    offset = (step * batch_size) % (train_labels.shape[0] - batch_size)\n",
    "    # Generate a minibatch.\n",
    "    batch_data = train_dataset[offset:(offset + batch_size), :]\n",
    "    batch_labels = train_labels[offset:(offset + batch_size), :]\n",
    "    # Prepare a dictionary telling the session where to feed the minibatch.\n",
    "    # The key of the dictionary is the placeholder node of the graph to be fed,\n",
    "    # and the value is the numpy array to feed to it.\n",
    "    feed_dict = {tf_train_dataset : batch_data, tf_train_labels : batch_labels}\n",
    "    _, l, predictions = session.run(\n",
    "      [optimizer, loss, train_prediction], feed_dict=feed_dict)\n",
    "    if (step % 500 == 0):\n",
    "      print(\"Minibatch loss at step %d: %f\" % (step, l))\n",
    "      print(\"Minibatch accuracy: %.1f%%\" % accuracy(predictions, batch_labels))\n",
    "      print(\"Validation accuracy: %.1f%%\" % accuracy(\n",
    "        valid_prediction.eval(), valid_labels))\n",
    "  print(\"Test accuracy: %.1f%%\" % accuracy(test_prediction.eval(), test_labels))"
   ]
  },
  {
   "cell_type": "markdown",
   "metadata": {
    "colab_type": "text",
    "id": "7omWxtvLLxik"
   },
   "source": [
    "---\n",
    "Problem\n",
    "-------\n",
    "\n",
    "Turn the logistic regression example with SGD into a 1-hidden layer neural network with rectified linear units [nn.relu()](https://www.tensorflow.org/versions/r0.7/api_docs/python/nn.html#relu) and 1024 hidden nodes. This model should improve your validation / test accuracy.\n",
    "\n",
    "---"
   ]
  },
  {
   "cell_type": "code",
   "execution_count": null,
   "metadata": {
    "collapsed": true
   },
   "outputs": [],
   "source": [
    "got to 93.8 by running it 10x as many times! woooooot"
   ]
  }
 ],
 "metadata": {
  "anaconda-cloud": {},
  "colab": {
   "default_view": {},
   "name": "2_fullyconnected.ipynb",
   "provenance": [],
   "version": "0.3.2",
   "views": {}
  },
  "kernelspec": {
   "display_name": "Python [conda root]",
   "language": "python",
   "name": "conda-root-py"
  },
  "language_info": {
   "codemirror_mode": {
    "name": "ipython",
    "version": 2
   },
   "file_extension": ".py",
   "mimetype": "text/x-python",
   "name": "python",
   "nbconvert_exporter": "python",
   "pygments_lexer": "ipython2",
   "version": "2.7.12"
  }
 },
 "nbformat": 4,
 "nbformat_minor": 0
}
